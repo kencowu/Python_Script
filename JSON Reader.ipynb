{
 "metadata": {
  "language_info": {
   "codemirror_mode": {
    "name": "ipython",
    "version": 3
   },
   "file_extension": ".py",
   "mimetype": "text/x-python",
   "name": "python",
   "nbconvert_exporter": "python",
   "pygments_lexer": "ipython3",
   "version": "3.7.6-final"
  },
  "orig_nbformat": 2,
  "kernelspec": {
   "name": "python3",
   "display_name": "Python 3"
  }
 },
 "nbformat": 4,
 "nbformat_minor": 2,
 "cells": [
  {
   "cell_type": "code",
   "execution_count": 63,
   "metadata": {},
   "outputs": [],
   "source": [
    "import pandas as pd\n",
    "import os\n",
    "import json"
   ]
  },
  {
   "cell_type": "code",
   "execution_count": 88,
   "metadata": {},
   "outputs": [],
   "source": [
    "dirs_all ={\n",
    "    \"dirs_ge\": {\"dir1\":\"C:/Users/KencoWu/Desktop/JSON files/users\"}, \n",
    "    \"dirs_fr\": {\"dir2\":\"C:/Users/KencoWu/Desktop/JSON files/users_20201110\"},\n",
    "    \"dirs_nl\": {\"dir3\":\"C:/Users/KencoWu/Desktop/JSON files/users_20201112\"},\n",
    "    \"dirs_us\": {\"dir5\":\"C:/Users/KencoWu/Desktop/JSON files/Archive\",\n",
    "                \"dir4\":\"C:/Users/KencoWu/Desktop/JSON files/Archive 2\",\n",
    "                \"dir6\":\"C:/Users/KencoWu/Desktop/JSON files/Archive 3\"}\n",
    "    }\n",
    "path = 'C:/Users/KencoWu/Desktop/JSON files/Celonis_user.xlsx'"
   ]
  },
  {
   "cell_type": "code",
   "execution_count": 90,
   "metadata": {
    "tags": []
   },
   "outputs": [],
   "source": [
    "df_country = {\n",
    "    \"dirs_ge\": pd.DataFrame(),\n",
    "    \"dirs_fr\": pd.DataFrame(),\n",
    "    \"dirs_nl\": pd.DataFrame(),\n",
    "    \"dirs_us\": pd.DataFrame()\n",
    "}\n",
    "writer = pd.ExcelWriter(path, engine='xlsxwriter')\n",
    "\n",
    "for dirs in dirs_all:\n",
    "    # print(dirs)\n",
    "    for dir in dirs_all[dirs]:\n",
    "        # print(dir)\n",
    "        files = os.listdir(dirs_all[dirs][dir])\n",
    "        for file in files:\n",
    "            # print(\"{}/{}\".format(dirs[dir],file))\n",
    "            df_tmp = pd.read_json(\"{}/{}\".format(dirs_all[dirs][dir],file))\n",
    "            df_country[dirs] = df_country[dirs].append(df_tmp)\n",
    "    df_country[dirs] = pd.json_normalize(df_country[dirs].users)\n",
    "    df_country[dirs].to_excel(writer, sheet_name=dirs[5:].upper(), index=False)\n",
    "writer.save()"
   ]
  },
  {
   "cell_type": "code",
   "execution_count": null,
   "metadata": {},
   "outputs": [],
   "source": []
  }
 ]
}